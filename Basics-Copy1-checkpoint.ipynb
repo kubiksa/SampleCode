{
 "cells": [
  {
   "cell_type": "markdown",
   "metadata": {},
   "source": [
    "## This project looks at the number of births in the United States from 1994 to 2003\n",
    "\n",
    "The data set contains the following:\n",
    "- 'year' = year\n",
    "- 'month' = month as numbered 1-12\n",
    "- 'date_of_month' - day of the month\n",
    "- 'day_of_week' - day of the week numbered 1-7 corresponding to Monday-Sunday\n",
    "- 'births' = number of births"
   ]
  },
  {
   "cell_type": "code",
   "execution_count": 1,
   "metadata": {
    "collapsed": false,
    "scrolled": false
   },
   "outputs": [
    {
     "name": "stdout",
     "output_type": "stream",
     "text": [
      "['year,month,date_of_month,day_of_week,births', '1994,1,1,6,8096', '1994,1,2,7,7772', '1994,1,3,1,10142', '1994,1,4,2,11248', '1994,1,5,3,11053', '1994,1,6,4,11406', '1994,1,7,5,11251', '1994,1,8,6,8653', '1994,1,9,7,7910']\n"
     ]
    }
   ],
   "source": [
    "births_string = open(\"US_births_1994-2003_CDC_NCHS.csv\").read()\n",
    "births_rows = births_string.split(\"\\n\")\n",
    "print(births_rows[0:10])"
   ]
  },
  {
   "cell_type": "markdown",
   "metadata": {},
   "source": [
    "Define function read_csv which will manipulate the csv file into a useable format.\n",
    "Print the first 10 lines to make sure the data is what is expected."
   ]
  },
  {
   "cell_type": "code",
   "execution_count": 3,
   "metadata": {
    "collapsed": false
   },
   "outputs": [
    {
     "name": "stdout",
     "output_type": "stream",
     "text": [
      "[[1994, 1, 1, 6, 8096], [1994, 1, 1, 6, 8096], [1994, 1, 1, 6, 8096], [1994, 1, 1, 6, 8096], [1994, 1, 1, 6, 8096], [1994, 1, 2, 7, 7772], [1994, 1, 2, 7, 7772], [1994, 1, 2, 7, 7772], [1994, 1, 2, 7, 7772], [1994, 1, 2, 7, 7772]]\n"
     ]
    }
   ],
   "source": [
    "def read_csv(filename):\n",
    "    string = open(filename).read()\n",
    "    string_list_headers = string.split(\"\\n\")\n",
    "    string_list = string_list_headers[1:len(string_list_headers)]\n",
    "    final_list = []\n",
    "    for row in string_list:\n",
    "        int_fields = []\n",
    "        string_fields = row.split(',')\n",
    "        for item in string_fields:\n",
    "            value = int(item)\n",
    "            int_fields.append(value)\n",
    "            final_list.append(int_fields)\n",
    "    return(final_list)\n",
    "\n",
    "cdc_list = read_csv(\"US_births_1994-2003_CDC_NCHS.csv\")\n",
    "print(cdc_list[0:10])"
   ]
  },
  {
   "cell_type": "markdown",
   "metadata": {},
   "source": [
    "Now can start analyzing the data.\n",
    "The following function month_births() calculates the total number fo births that occurred in each month, across all of the years in the dataset."
   ]
  },
  {
   "cell_type": "code",
   "execution_count": 6,
   "metadata": {
    "collapsed": false
   },
   "outputs": [
    {
     "name": "stdout",
     "output_type": "stream",
     "text": [
      "{1: 16162585, 2: 15090700, 3: 16610345, 4: 15926570, 5: 16754535, 6: 16482650, 7: 17493915, 8: 17629290, 9: 17198490, 10: 16894070, 11: 15858235, 12: 16509300}\n"
     ]
    }
   ],
   "source": [
    "def month_births(list):\n",
    "    births_per_month = {}\n",
    "    for list in list:\n",
    "        month = list[1]\n",
    "        births = list[4]\n",
    "        if month in births_per_month:\n",
    "            births_per_month[month] = births_per_month[month] + births\n",
    "        else:\n",
    "            births_per_month[month] = births\n",
    "    return(births_per_month)\n",
    "\n",
    "cdc_month_births = month_births(cdc_list)\n",
    "print(cdc_month_births)"
   ]
  },
  {
   "cell_type": "markdown",
   "metadata": {},
   "source": [
    "Now to create a function that calculats the total number of births for each unique day of the week."
   ]
  },
  {
   "cell_type": "code",
   "execution_count": 7,
   "metadata": {
    "collapsed": false
   },
   "outputs": [
    {
     "name": "stdout",
     "output_type": "stream",
     "text": [
      "{1: 28945830, 2: 32230980, 3: 31614275, 4: 31442145, 5: 31168285, 6: 22810555, 7: 20398615}\n"
     ]
    }
   ],
   "source": [
    "def dow_births(list):\n",
    "    births_per_dow = {}\n",
    "    for list in list:\n",
    "        day_of_week = list[3]\n",
    "        births = list[4]\n",
    "        if day_of_week in births_per_dow:\n",
    "            births_per_dow[day_of_week] = births_per_dow[day_of_week] + births\n",
    "        else:\n",
    "            births_per_dow[day_of_week] = births\n",
    "    return(births_per_dow)\n",
    "\n",
    "cdc_day_births = dow_births(cdc_list)\n",
    "print(cdc_day_births)"
   ]
  },
  {
   "cell_type": "markdown",
   "metadata": {},
   "source": [
    "This leads us to understand we can create a function which will sum any of the columns."
   ]
  },
  {
   "cell_type": "code",
   "execution_count": 9,
   "metadata": {
    "collapsed": false
   },
   "outputs": [],
   "source": [
    "def calc_counts(list,column):\n",
    "    births_per_col = {}\n",
    "    for list in list:\n",
    "        col = list[column]\n",
    "        births = list[4]\n",
    "        if col in births_per_col:\n",
    "            births_per_col[col] = births_per_col[col] + births\n",
    "        else:\n",
    "            births_per_col[col] = births\n",
    "    return(births_per_col)\n",
    "\n",
    "    "
   ]
  },
  {
   "cell_type": "markdown",
   "metadata": {},
   "source": [
    "Let's use the new function to calculate the number of births per year."
   ]
  },
  {
   "cell_type": "code",
   "execution_count": 10,
   "metadata": {
    "collapsed": false
   },
   "outputs": [
    {
     "name": "stdout",
     "output_type": "stream",
     "text": [
      "{2000: 20294070, 2001: 20129665, 2002: 20108630, 2003: 20449750, 1994: 19763835, 1995: 19497945, 1996: 19457470, 1997: 19404470, 1998: 19707765, 1999: 19797085}\n"
     ]
    }
   ],
   "source": [
    "cdc_year_births = calc_counts(cdc_list,0)\n",
    "print(cdc_year_births)"
   ]
  },
  {
   "cell_type": "markdown",
   "metadata": {},
   "source": [
    "Now let's calculate the number of births per month."
   ]
  },
  {
   "cell_type": "code",
   "execution_count": 11,
   "metadata": {
    "collapsed": false
   },
   "outputs": [
    {
     "name": "stdout",
     "output_type": "stream",
     "text": [
      "{1: 16162585, 2: 15090700, 3: 16610345, 4: 15926570, 5: 16754535, 6: 16482650, 7: 17493915, 8: 17629290, 9: 17198490, 10: 16894070, 11: 15858235, 12: 16509300}\n"
     ]
    }
   ],
   "source": [
    "cdc_month_births = calc_counts(cdc_list,1)\n",
    "print(cdc_month_births)"
   ]
  },
  {
   "cell_type": "markdown",
   "metadata": {},
   "source": [
    "Day of month births."
   ]
  },
  {
   "cell_type": "code",
   "execution_count": 12,
   "metadata": {
    "collapsed": false
   },
   "outputs": [
    {
     "name": "stdout",
     "output_type": "stream",
     "text": [
      "{1: 6382785, 2: 6443695, 3: 6522495, 4: 6440770, 5: 6499765, 6: 6522370, 7: 6552295, 8: 6561485, 9: 6516460, 10: 6603820, 11: 6571805, 12: 6592185, 13: 6388420, 14: 6600765, 15: 6595855, 16: 6575960, 17: 6624765, 18: 6634275, 19: 6593635, 20: 6624105, 21: 6614485, 22: 6586905, 23: 6466450, 24: 6440415, 25: 6360580, 26: 6423980, 27: 6471975, 28: 6538425, 29: 6115805, 30: 6010475, 31: 3733480}\n"
     ]
    }
   ],
   "source": [
    "cdc_dom_births = calc_counts(cdc_list, 2)\n",
    "print(cdc_dom_births)"
   ]
  },
  {
   "cell_type": "markdown",
   "metadata": {},
   "source": [
    "Day of week births."
   ]
  },
  {
   "cell_type": "code",
   "execution_count": 13,
   "metadata": {
    "collapsed": false,
    "scrolled": true
   },
   "outputs": [
    {
     "name": "stdout",
     "output_type": "stream",
     "text": [
      "{1: 28945830, 2: 32230980, 3: 31614275, 4: 31442145, 5: 31168285, 6: 22810555, 7: 20398615}\n"
     ]
    }
   ],
   "source": [
    "cdc_dow_births = calc_counts(cdc_list, 3)\n",
    "print(cdc_dow_births)"
   ]
  },
  {
   "cell_type": "markdown",
   "metadata": {},
   "source": []
  },
  {
   "cell_type": "code",
   "execution_count": null,
   "metadata": {
    "collapsed": true
   },
   "outputs": [],
   "source": []
  }
 ],
 "metadata": {
  "anaconda-cloud": {},
  "kernelspec": {
   "display_name": "Python [default]",
   "language": "python",
   "name": "python3"
  },
  "language_info": {
   "codemirror_mode": {
    "name": "ipython",
    "version": 3
   },
   "file_extension": ".py",
   "mimetype": "text/x-python",
   "name": "python",
   "nbconvert_exporter": "python",
   "pygments_lexer": "ipython3",
   "version": "3.5.2"
  }
 },
 "nbformat": 4,
 "nbformat_minor": 1
}
